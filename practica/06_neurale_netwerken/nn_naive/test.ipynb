{
 "cells": [
  {
   "cell_type": "code",
   "execution_count": 266,
   "metadata": {},
   "outputs": [],
   "source": [
    "import random"
   ]
  },
  {
   "cell_type": "code",
   "execution_count": 267,
   "metadata": {},
   "outputs": [
    {
     "name": "stdout",
     "output_type": "stream",
     "text": [
      "[[0.81, 0.14, 0.03, 0.94, 0.35, 0.31, 0.28, 0.17, 0.94], [0.13, 0.86, 0.94, 0.69, 0.11, 0.75, 0.54, 0.04, 0.03]]\n"
     ]
    },
    {
     "ename": "NameError",
     "evalue": "name 'i' is not defined",
     "output_type": "error",
     "traceback": [
      "\u001b[1;31m---------------------------------------------------------------------------\u001b[0m",
      "\u001b[1;31mNameError\u001b[0m                                 Traceback (most recent call last)",
      "Cell \u001b[1;32mIn[267], line 15\u001b[0m\n\u001b[0;32m     13\u001b[0m w \u001b[39m=\u001b[39m [weights1, weights2]\n\u001b[0;32m     14\u001b[0m \u001b[39mprint\u001b[39m(w)\n\u001b[1;32m---> 15\u001b[0m \u001b[39mprint\u001b[39m(i)\n\u001b[0;32m     17\u001b[0m \u001b[39mdef\u001b[39;00m \u001b[39mweighted_sum\u001b[39m(inputs,weights):\n\u001b[0;32m     18\u001b[0m     total \u001b[39m=\u001b[39m \u001b[39m0\u001b[39m \n",
      "\u001b[1;31mNameError\u001b[0m: name 'i' is not defined"
     ]
    }
   ],
   "source": [
    "my_inputs = [  [1,1,1,1,0,1,1,1,1],\n",
    "           [0,1,0,1,0,1,0,1,0],\n",
    "           [1,0,1,0,1,0,1,0,1]]\n",
    "\n",
    "# i=[]\n",
    "# for row in my_inputs:\n",
    "#     q = [float(i) for i in row]\n",
    "#     i.append(q)\n",
    "\n",
    "random.seed(42)\n",
    "weights1 = [random.randrange(0, 100, 1)/100 for i in range(9)]\n",
    "weights2 = [random.randrange(0, 100, 1)/100 for i in range(9)]\n",
    "w = [weights1, weights2]\n",
    "print(w)\n",
    "print(i)\n",
    "\n",
    "def weighted_sum(inputs,weights):\n",
    "    total = 0 \n",
    "    for x,w in zip(inputs,weights):\n",
    "        total += w * x \n",
    "\n",
    "def step_function(input):\n",
    "    if input >=2:\n",
    "        return 1\n",
    "    else:\n",
    "        return 0 \n",
    "    \n",
    "def layer_output (inputs, weights, activation_function=True):\n",
    "    layer_output=[]\n",
    "    for i in inputs:\n",
    "        node_output = []\n",
    "        for inputs in weights:\n",
    "            \n",
    "            node_input = weighted_sum(inputs, weights)\n",
    "            if activation_function:\n",
    "                node_output = step_function(node_input)\n",
    "            else:\n",
    "                node_output = node_input\n",
    "            node_output.append(node_output)\n",
    "            \n",
    "    layer_output.append(node_output)\n",
    "\n",
    "    return layer_output\n"
   ]
  },
  {
   "cell_type": "code",
   "execution_count": 268,
   "metadata": {},
   "outputs": [],
   "source": [
    "class Matrix:\n",
    "\n",
    "    def __init__(self, input):\n",
    "        self.input = input\n",
    "        self.rows = len(self.input)\n",
    "        self.cols = len(self.input[0])\n",
    "    \n",
    "    def shape(self):\n",
    "        shape = [self.rows, self.cols]\n",
    "        return(shape)\n",
    "    \n",
    "    def getvalue(self,i,j): #matrices start at 1,1 arrays start at 0,0\n",
    "        if (i>0 and j>0):\n",
    "            value = self.input[i-1][j-1]\n",
    "            return(value)\n",
    "        else:\n",
    "            print('out of bounds value request, matrices start at 1,1')\n",
    "\n",
    "    def flatten(self):\n",
    "        flatmatrix = [[item for i in self.input for item in i]]  #list comprehension > for loops\n",
    "        return(flatmatrix)\n",
    "\n",
    "    \n",
    "    def flat_transpose(self):\n",
    "        flat = [[item for i in self.input for item in i]]  #list comprehension > for loops\n",
    "        flat_t = [[row[i] for row in flat] for i in range(len(flat[0]))]\n",
    "        #list(map(list, zip(*weightsMatrix.flatten()))) #mapping > list comprehension > for loops, functions > objects, haskell way\n",
    "        return(flat_t)\n",
    "\n",
    "\n",
    "    def __mul__(self, b):\n",
    "        \n",
    "        if (self.cols == b.rows):\n",
    "            #initiate resultmatrix and populate with zeros\n",
    "            resultMatrix = [[0 for i in range(b.cols)] for j in range(self.rows)] \n",
    "            #fill resultmatrix with dot product values\n",
    "            for row in range(self.rows):\n",
    "                for col in range(b.cols):\n",
    "                    for i in range(self.cols):\n",
    "                        resultMatrix[row][col] += self.input[row][i]*b.input[i][col]\n",
    "            return(resultMatrix)\n",
    "        else:   \n",
    "            return(print('not multiplicable'))\n",
    "\n",
    "\n",
    "                "
   ]
  },
  {
   "cell_type": "code",
   "execution_count": 269,
   "metadata": {},
   "outputs": [
    {
     "name": "stdout",
     "output_type": "stream",
     "text": [
      "[2, 3]\n",
      "[3, 2]\n"
     ]
    }
   ],
   "source": [
    "array1 = [[1,2,3],[4,5,6]]\n",
    "m1 = Matrix([[1,2,3],[4,5,6]])\n",
    "m2 = Matrix([[1,2],[3,4],[5,6]])\n",
    "print (m1.shape())\n",
    "print (m2.shape())"
   ]
  },
  {
   "cell_type": "code",
   "execution_count": 270,
   "metadata": {},
   "outputs": [
    {
     "data": {
      "text/plain": [
       "3"
      ]
     },
     "execution_count": 270,
     "metadata": {},
     "output_type": "execute_result"
    }
   ],
   "source": [
    "m1.shape()[1]"
   ]
  },
  {
   "cell_type": "code",
   "execution_count": 271,
   "metadata": {},
   "outputs": [
    {
     "data": {
      "text/plain": [
       "2"
      ]
     },
     "execution_count": 271,
     "metadata": {},
     "output_type": "execute_result"
    }
   ],
   "source": [
    "array1[0][1]"
   ]
  },
  {
   "cell_type": "code",
   "execution_count": null,
   "metadata": {},
   "outputs": [
    {
     "name": "stdout",
     "output_type": "stream",
     "text": [
      "[[0, 0, 0], [0, 0, 0]]\n"
     ]
    }
   ],
   "source": [
    "emptymatrix = [[0 for i in range(m1.shape()[1])] for j in range(m1.shape()[0])] \n",
    "print(emptymatrix)"
   ]
  },
  {
   "cell_type": "code",
   "execution_count": null,
   "metadata": {},
   "outputs": [
    {
     "name": "stdout",
     "output_type": "stream",
     "text": [
      "[[22, 28], [49, 64]]\n"
     ]
    }
   ],
   "source": [
    "print(m1*m2)"
   ]
  },
  {
   "cell_type": "code",
   "execution_count": null,
   "metadata": {},
   "outputs": [
    {
     "name": "stdout",
     "output_type": "stream",
     "text": [
      "out of bounds value request, matrices start at 1,1\n"
     ]
    }
   ],
   "source": [
    "m1.getvalue(0,0)"
   ]
  },
  {
   "cell_type": "code",
   "execution_count": null,
   "metadata": {},
   "outputs": [],
   "source": [
    "import random"
   ]
  },
  {
   "cell_type": "code",
   "execution_count": null,
   "metadata": {},
   "outputs": [],
   "source": [
    "random.seed(42)\n",
    "weights1 = Matrix ([[round(random.uniform(0,1),2) for i in range(9)]])"
   ]
  },
  {
   "cell_type": "code",
   "execution_count": null,
   "metadata": {},
   "outputs": [
    {
     "data": {
      "text/plain": [
       "[1, 9]"
      ]
     },
     "execution_count": 205,
     "metadata": {},
     "output_type": "execute_result"
    }
   ],
   "source": [
    "weights1.shape()"
   ]
  },
  {
   "cell_type": "code",
   "execution_count": null,
   "metadata": {},
   "outputs": [
    {
     "name": "stdout",
     "output_type": "stream",
     "text": [
      "not multiplicable\n",
      "None\n"
     ]
    }
   ],
   "source": [
    "print(m1*weights1)"
   ]
  },
  {
   "cell_type": "code",
   "execution_count": null,
   "metadata": {},
   "outputs": [
    {
     "data": {
      "text/plain": [
       "[3, 3]"
      ]
     },
     "execution_count": 240,
     "metadata": {},
     "output_type": "execute_result"
    }
   ],
   "source": [
    "circle = Matrix([[1,1,1],\n",
    "                 [1,0,1],\n",
    "                 [1,1,1]])\n",
    "circle.shape()"
   ]
  },
  {
   "cell_type": "code",
   "execution_count": null,
   "metadata": {},
   "outputs": [],
   "source": [
    "def rndarray(amount):\n",
    "    random.seed(42)\n",
    "    array=[round(random.uniform(0,1),2) for i in range(amount)]\n",
    "    return (array)"
   ]
  },
  {
   "cell_type": "code",
   "execution_count": null,
   "metadata": {},
   "outputs": [
    {
     "name": "stdout",
     "output_type": "stream",
     "text": [
      "[[0.64, 0.03, 0.28], [0.64, 0.03, 0.28], [0.64, 0.03, 0.28]]\n"
     ]
    }
   ],
   "source": [
    "w_array = [rndarray(3),rndarray(3),rndarray(3)]\n",
    "print(w_array)\n"
   ]
  },
  {
   "cell_type": "code",
   "execution_count": null,
   "metadata": {},
   "outputs": [
    {
     "data": {
      "text/plain": [
       "[3, 3]"
      ]
     },
     "execution_count": 230,
     "metadata": {},
     "output_type": "execute_result"
    }
   ],
   "source": [
    "weightsMatrix = Matrix(w_array)\n",
    "weightsMatrix.shape()"
   ]
  },
  {
   "cell_type": "code",
   "execution_count": 272,
   "metadata": {},
   "outputs": [
    {
     "name": "stdout",
     "output_type": "stream",
     "text": [
      "[[1.92, 0.09, 0.8400000000000001], [1.28, 0.06, 0.56], [1.92, 0.09, 0.8400000000000001]]\n"
     ]
    }
   ],
   "source": [
    "print(circle*weightsMatrix)"
   ]
  },
  {
   "cell_type": "code",
   "execution_count": null,
   "metadata": {},
   "outputs": [
    {
     "name": "stdout",
     "output_type": "stream",
     "text": [
      "[[1, 1, 1, 1, 0, 1, 1, 1, 1]]\n"
     ]
    }
   ],
   "source": [
    "print(circle.flatten())"
   ]
  },
  {
   "cell_type": "code",
   "execution_count": 273,
   "metadata": {},
   "outputs": [
    {
     "name": "stdout",
     "output_type": "stream",
     "text": [
      "[[0.64, 0.03, 0.28, 0.64, 0.03, 0.28, 0.64, 0.03, 0.28]]\n"
     ]
    }
   ],
   "source": [
    "print(weightsMatrix.flatten())"
   ]
  },
  {
   "cell_type": "code",
   "execution_count": null,
   "metadata": {},
   "outputs": [
    {
     "name": "stdout",
     "output_type": "stream",
     "text": [
      "[[0.64], [0.03], [0.28], [0.64], [0.03], [0.28], [0.64], [0.03], [0.28]]\n"
     ]
    }
   ],
   "source": [
    "q = list(map(list, zip(*weightsMatrix.flatten())))\n",
    "print(q)"
   ]
  },
  {
   "cell_type": "code",
   "execution_count": null,
   "metadata": {},
   "outputs": [
    {
     "name": "stdout",
     "output_type": "stream",
     "text": [
      "[[0.64, 0.03, 0.28, 0.64, 0.03, 0.28, 0.64, 0.03, 0.28]]\n"
     ]
    },
    {
     "data": {
      "text/plain": [
       "[1, 9]"
      ]
     },
     "execution_count": 257,
     "metadata": {},
     "output_type": "execute_result"
    }
   ],
   "source": [
    "q = weightsMatrix.flatten()\n",
    "print(q)\n",
    "w = Matrix(q)\n",
    "w.shape()"
   ]
  },
  {
   "cell_type": "code",
   "execution_count": null,
   "metadata": {},
   "outputs": [
    {
     "name": "stdout",
     "output_type": "stream",
     "text": [
      "[[1], [1], [1], [1], [0], [1], [1], [1], [1]]\n"
     ]
    },
    {
     "data": {
      "text/plain": [
       "[9, 1]"
      ]
     },
     "execution_count": 258,
     "metadata": {},
     "output_type": "execute_result"
    }
   ],
   "source": [
    "print(circle.flat_transpose())\n",
    "s = Matrix(circle.flat_transpose())\n",
    "s.shape()"
   ]
  },
  {
   "cell_type": "code",
   "execution_count": null,
   "metadata": {},
   "outputs": [
    {
     "name": "stdout",
     "output_type": "stream",
     "text": [
      "[[2.8200000000000003]]\n"
     ]
    }
   ],
   "source": [
    "print(w*s)"
   ]
  },
  {
   "cell_type": "code",
   "execution_count": 274,
   "metadata": {},
   "outputs": [
    {
     "name": "stdout",
     "output_type": "stream",
     "text": [
      "[[0.64, 0.03, 0.28, 0.22, 0.74, 0.68, 0.89, 0.09, 0.42], [0.64, 0.03, 0.28, 0.22, 0.74, 0.68, 0.89, 0.09, 0.42]]\n"
     ]
    }
   ],
   "source": [
    "doubleW = [rndarray(9),rndarray(9)]\n",
    "print(doubleW)"
   ]
  },
  {
   "cell_type": "code",
   "execution_count": 275,
   "metadata": {},
   "outputs": [
    {
     "name": "stdout",
     "output_type": "stream",
     "text": [
      "[2, 9]\n"
     ]
    }
   ],
   "source": [
    "matrixW = Matrix(doubleW)\n",
    "print(matrixW.shape())"
   ]
  },
  {
   "cell_type": "code",
   "execution_count": 277,
   "metadata": {},
   "outputs": [
    {
     "name": "stdout",
     "output_type": "stream",
     "text": [
      "[[3.25], [3.25]]\n"
     ]
    }
   ],
   "source": [
    "result = matrixW * s\n",
    "print(result)"
   ]
  },
  {
   "cell_type": "code",
   "execution_count": 278,
   "metadata": {},
   "outputs": [
    {
     "name": "stdout",
     "output_type": "stream",
     "text": [
      "[4, 16, 36, 64, 100]\n"
     ]
    }
   ],
   "source": [
    "numbers = [2, 4, 6, 8, 10]\n",
    "\n",
    "# returns the square of a number\n",
    "def square(number):\n",
    "  return number * number\n",
    "\n",
    "# apply square() to each item of the numbers list\n",
    "squared_numbers_iterator = map(square, numbers)\n",
    "\n",
    "\n",
    "# converting to list\n",
    "squared_numbers = list(squared_numbers_iterator)\n",
    "print(squared_numbers)\n",
    "\n",
    "# Output: [4, 16, 36, 64, 100]"
   ]
  },
  {
   "cell_type": "code",
   "execution_count": 279,
   "metadata": {},
   "outputs": [],
   "source": [
    "import math"
   ]
  },
  {
   "cell_type": "code",
   "execution_count": 284,
   "metadata": {},
   "outputs": [
    {
     "name": "stdout",
     "output_type": "stream",
     "text": [
      "[0.9956360318876475, 0.969231140642852]\n"
     ]
    }
   ],
   "source": [
    "the2nodevalues =Matrix([[5.43], [3.45]])\n",
    "flatnodes =  the2nodevalues.flatten()\n",
    "activationvalues = map(lambda x: 1/(1+math.exp(-x)), flatnodes[0])\n",
    "av = list(activationvalues)\n",
    "print(av)"
   ]
  },
  {
   "cell_type": "code",
   "execution_count": 285,
   "metadata": {},
   "outputs": [],
   "source": [
    "    \n",
    "def softmax(x):\n",
    "    print('softmax input values',x)\n",
    "    exp_x = [math.exp(i) for i in x]\n",
    "    sum_exp = sum(exp_x)\n",
    "    return [es / sum_exp for es in exp_x]\n"
   ]
  },
  {
   "cell_type": "code",
   "execution_count": 286,
   "metadata": {},
   "outputs": [
    {
     "name": "stdout",
     "output_type": "stream",
     "text": [
      "softmax input values [0.9956360318876475, 0.969231140642852]\n"
     ]
    },
    {
     "ename": "TypeError",
     "evalue": "must be real number, not list",
     "output_type": "error",
     "traceback": [
      "\u001b[1;31m---------------------------------------------------------------------------\u001b[0m",
      "\u001b[1;31mTypeError\u001b[0m                                 Traceback (most recent call last)",
      "Cell \u001b[1;32mIn[286], line 1\u001b[0m\n\u001b[1;32m----> 1\u001b[0m \u001b[39mprint\u001b[39m(softmax(av))\n",
      "Cell \u001b[1;32mIn[285], line 3\u001b[0m, in \u001b[0;36msoftmax\u001b[1;34m(x)\u001b[0m\n\u001b[0;32m      1\u001b[0m \u001b[39mdef\u001b[39;00m \u001b[39msoftmax\u001b[39m(x):\n\u001b[0;32m      2\u001b[0m     \u001b[39mprint\u001b[39m(\u001b[39m'\u001b[39m\u001b[39msoftmax input values\u001b[39m\u001b[39m'\u001b[39m,x)\n\u001b[1;32m----> 3\u001b[0m     exp_x \u001b[39m=\u001b[39m [math\u001b[39m.\u001b[39;49mexp(x) \u001b[39mfor\u001b[39;49;00m i \u001b[39min\u001b[39;49;00m x]\n\u001b[0;32m      4\u001b[0m     sum_exp \u001b[39m=\u001b[39m \u001b[39msum\u001b[39m(exp_x)\n\u001b[0;32m      5\u001b[0m     \u001b[39mreturn\u001b[39;00m [es \u001b[39m/\u001b[39m sum_exp \u001b[39mfor\u001b[39;00m es \u001b[39min\u001b[39;00m exp_x]\n",
      "Cell \u001b[1;32mIn[285], line 3\u001b[0m, in \u001b[0;36m<listcomp>\u001b[1;34m(.0)\u001b[0m\n\u001b[0;32m      1\u001b[0m \u001b[39mdef\u001b[39;00m \u001b[39msoftmax\u001b[39m(x):\n\u001b[0;32m      2\u001b[0m     \u001b[39mprint\u001b[39m(\u001b[39m'\u001b[39m\u001b[39msoftmax input values\u001b[39m\u001b[39m'\u001b[39m,x)\n\u001b[1;32m----> 3\u001b[0m     exp_x \u001b[39m=\u001b[39m [math\u001b[39m.\u001b[39;49mexp(x) \u001b[39mfor\u001b[39;00m i \u001b[39min\u001b[39;00m x]\n\u001b[0;32m      4\u001b[0m     sum_exp \u001b[39m=\u001b[39m \u001b[39msum\u001b[39m(exp_x)\n\u001b[0;32m      5\u001b[0m     \u001b[39mreturn\u001b[39;00m [es \u001b[39m/\u001b[39m sum_exp \u001b[39mfor\u001b[39;00m es \u001b[39min\u001b[39;00m exp_x]\n",
      "\u001b[1;31mTypeError\u001b[0m: must be real number, not list"
     ]
    }
   ],
   "source": [
    "print(softmax(av))"
   ]
  }
 ],
 "metadata": {
  "kernelspec": {
   "display_name": "Python 3",
   "language": "python",
   "name": "python3"
  },
  "language_info": {
   "codemirror_mode": {
    "name": "ipython",
    "version": 3
   },
   "file_extension": ".py",
   "mimetype": "text/x-python",
   "name": "python",
   "nbconvert_exporter": "python",
   "pygments_lexer": "ipython3",
   "version": "3.11.2"
  },
  "orig_nbformat": 4
 },
 "nbformat": 4,
 "nbformat_minor": 2
}
