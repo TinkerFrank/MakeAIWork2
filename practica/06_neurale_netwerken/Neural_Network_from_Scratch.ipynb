{
  "nbformat": 4,
  "nbformat_minor": 0,
  "metadata": {
    "colab": {
      "provenance": []
    },
    "kernelspec": {
      "name": "python3",
      "display_name": "Python 3"
    }
  },
  "cells": [
    {
      "cell_type": "code",
      "metadata": {
        "id": "2_vvshMhQm7m"
      },
      "source": [
        "import numpy as np\n",
        "\n",
        "# Activation Functions\n",
        "def tanh(x):\n",
        "    return np.tanh(x)\n",
        "\n",
        "def d_tanh(x):\n",
        "    return 1 - np.square(np.tanh(x))\n",
        "\n",
        "def sigmoid(x):\n",
        "    return 1/(1 + np.exp(-x))\n",
        "\n",
        "def d_sigmoid(x):\n",
        "    return (1 - sigmoid(x)) * sigmoid(x)\n",
        "\n",
        "# Loss Functions \n",
        "def logloss(y, a):\n",
        "    return -(y*np.log(a) + (1-y)*np.log(1-a))\n",
        "\n",
        "def d_logloss(y, a):\n",
        "    return (a - y)/(a*(1 - a))\t"
      ],
      "execution_count": null,
      "outputs": []
    },
    {
      "cell_type": "code",
      "metadata": {
        "id": "nteMKEk2Qylh"
      },
      "source": [
        "# The layer class\n",
        "class Layer:\n",
        "\n",
        "    activationFunctions = {\n",
        "        'tanh': (tanh, d_tanh),\n",
        "        'sigmoid': (sigmoid, d_sigmoid)\n",
        "    }\n",
        "    learning_rate = 0.1\n",
        "\n",
        "    def __init__(self, inputs, neurons, activation):\n",
        "        self.W = np.random.randn(neurons, inputs)\n",
        "        self.b = np.zeros((neurons, 1))\n",
        "        self.act, self.d_act = self.activationFunctions.get(activation)\n",
        "\n",
        "    def feedforward(self, A_prev):\n",
        "        self.A_prev = A_prev\n",
        "        self.Z = np.dot(self.W, self.A_prev) + self.b\n",
        "        self.A = self.act(self.Z)\n",
        "        return self.A\n",
        "\n",
        "    def backprop(self, dA):\n",
        "        dZ = np.multiply(self.d_act(self.Z), dA)\n",
        "        dW = 1/dZ.shape[1] * np.dot(dZ, self.A_prev.T)\n",
        "        db = 1/dZ.shape[1] * np.sum(dZ, axis=1, keepdims=True)\n",
        "        dA_prev = np.dot(self.W.T, dZ)\n",
        "\n",
        "        self.W = self.W - self.learning_rate * dW\n",
        "        self.b = self.b - self.learning_rate * db\n",
        "\n",
        "        return dA_prev"
      ],
      "execution_count": null,
      "outputs": []
    },
    {
      "cell_type": "code",
      "metadata": {
        "id": "1Onod8aMZz2Y",
        "outputId": "fd82f90b-606c-4bef-ecb0-e8c15470e856",
        "colab": {
          "base_uri": "https://localhost:8080/",
          "height": 34
        }
      },
      "source": [
        "x_train = np.array([[0, 0, 1, 1], [0, 1, 0, 1]]) # dim x m\n",
        "y_train = np.array([[0, 1, 1, 0]]) # 1 x m\n",
        "\n",
        "m = 4\n",
        "epochs = 1500\n",
        "\n",
        "layers = [Layer(2, 3, 'tanh'), Layer(3, 1, 'sigmoid')]\n",
        "costs = [] # to plot graph \n",
        "\n",
        "for epoch in range(epochs):\n",
        "    A = x_train\n",
        "    for layer in layers:\n",
        "        A = layer.feedforward(A)\n",
        "\n",
        "    cost = 1/m * np.sum(logloss(y_train, A))\n",
        "    costs.append(cost)\n",
        "\n",
        "    dA = d_logloss(y_train, A)\n",
        "    for layer in reversed(layers):\n",
        "        dA = layer.backprop(dA)\n",
        "\n",
        "\n",
        "# Making predictions\n",
        "A = x_train\n",
        "for layer in layers:\n",
        "    A = layer.feedforward(A)\n",
        "print(A)"
      ],
      "execution_count": null,
      "outputs": [
        {
          "output_type": "stream",
          "text": [
            "[[0.00435616 0.97579848 0.97488253 0.03362983]]\n"
          ],
          "name": "stdout"
        }
      ]
    },
    {
      "cell_type": "code",
      "metadata": {
        "id": "-n6DQKJQc9P0",
        "outputId": "07036b3b-a5ec-4d19-eeed-396872903512",
        "colab": {
          "base_uri": "https://localhost:8080/",
          "height": 282
        }
      },
      "source": [
        "import matplotlib.pyplot as plt\n",
        "plt.plot(range(epochs), costs)"
      ],
      "execution_count": null,
      "outputs": [
        {
          "output_type": "execute_result",
          "data": {
            "text/plain": [
              "[<matplotlib.lines.Line2D at 0x7f7adbb410f0>]"
            ]
          },
          "metadata": {
            "tags": []
          },
          "execution_count": 17
        },
        {
          "output_type": "display_data",
          "data": {
            "image/png": "[encoded data removed]",
            "text/plain": [
              "<Figure size 432x288 with 1 Axes>"
            ]
          },
          "metadata": {
            "tags": [],
            "needs_background": "light"
          }
        }
      ]
    },
    {
      "cell_type": "markdown",
      "metadata": {
        "id": "XGnfCMl05crK"
      },
      "source": [
        "$$Z = W.A\\_prev + b$$  \n",
        "\n",
        "$$A = activation(Z)$$ \n",
        "$$\n",
        "W = W - \\alpha.{\\frac {dC}{dW}} \n",
        "$$ \n",
        "\n",
        "$$ \n",
        "b = b - \\alpha.{\\frac {db}{dW}}\n",
        "$$\n",
        "  \n",
        "$$\n",
        "C = \\frac1m\\sum{L(y_i, \\bar{y_i})}\n",
        "$$ "
      ]
    },
    {
      "cell_type": "markdown",
      "metadata": {
        "id": "7FlNTBXfLlWE"
      },
      "source": [
        "$$\n",
        "\\frac {dC}{dA}: given\n",
        "$$  \n",
        "$$\n",
        "\\frac {dC}{dZ} = d\\_act(Z) . \\frac {dC}{dA}\n",
        "$$  \n",
        "$$\n",
        "\\frac {dC}{dW} = \\frac {dC}{dZ}.A\\_prev^T\n",
        "$$  \n",
        "$$\n",
        "\\frac {dC}{db} = \\frac {dC}{dZ}\n",
        "$$  \n",
        "$$\n",
        "\\frac {dC}{dA\\_prev} = W^T . \\frac {dC}{dZ}\n",
        "$$  "
      ]
    }
  ]
}