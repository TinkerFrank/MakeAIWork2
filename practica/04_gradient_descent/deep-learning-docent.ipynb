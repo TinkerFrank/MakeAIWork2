{
 "cells": [
  {
   "cell_type": "markdown",
   "id": "783305be-8517-4058-a458-23956ad0be80",
   "metadata": {
    "tags": []
   },
   "source": [
    "### Imports"
   ]
  },
  {
   "cell_type": "code",
   "execution_count": 1,
   "id": "7ad7ed7f-ad3f-46cd-9b05-b424251cf191",
   "metadata": {
    "tags": []
   },
   "outputs": [],
   "source": [
    "# !pip3 install ipywidgets\n",
    "# !pip3 install matplotlib"
   ]
  },
  {
   "cell_type": "code",
   "execution_count": 1,
   "id": "392d5d78-a879-492f-ab43-d12b79c0af6c",
   "metadata": {
    "tags": []
   },
   "outputs": [],
   "source": [
    "from ipywidgets import interact\n",
    "import matplotlib.pyplot as plt\n",
    "import random as rnd\n",
    "import math\n",
    "import time"
   ]
  },
  {
   "cell_type": "markdown",
   "id": "e2eb9983-c570-4454-8195-6c64977c659c",
   "metadata": {
    "tags": []
   },
   "source": [
    "### Bronnen"
   ]
  },
  {
   "cell_type": "markdown",
   "id": "45f3a8dc-4d1a-46aa-b4e9-89c24cfb16f0",
   "metadata": {},
   "source": [
    "**Fast.ai**\n",
    "\n",
    "+ [Practical Deep Learning for Coders](https://course.fast.ai/)\n",
    "+ [Neural net foundations](https://course.fast.ai/Lessons/lesson3.html)\n",
    "\n",
    "**CodingTrain**:\n",
    "\n",
    "+ [Linear Regression with Gradient Descent](https://www.youtube.com/watch?v=L-Lsfu4ab74)\n",
    "+ [Mathematics of Gradient Descent](https://www.youtube.com/watch?v=jc2IthslyzM)"
   ]
  },
  {
   "cell_type": "code",
   "execution_count": 4,
   "id": "689fee69-062e-4dd9-b642-1a15b22a84ed",
   "metadata": {
    "tags": []
   },
   "outputs": [],
   "source": [
    "m2 = [100, 110, 120, 130, 140, 150, 160, 170, 180, 190, 200, 210, 220, 230, 240, 250, 260, 270, 280, 290, 300, 310, 320, 330, 340, 350, 360, 370, 380, 390, 400, 410, 420, 430, 440, 450, 460, 470, 480, 490, 500, 510, 520, 530, 540, 550, 560, 570, 580, 590, 600, 610, 620, 630, 640, 650, 660, 670, 680, 690, 700, 710, 720, 730, 740, 750, 760, 770, 780, 790, 800, 810, 820, 830, 840, 850, 860, 870, 880, 890, 900, 910, 920, 930, 940, 950, 960, 970, 980, 990]"
   ]
  },
  {
   "cell_type": "code",
   "execution_count": 5,
   "id": "de8dba48-750c-4ecb-8740-856c0c40e6cb",
   "metadata": {
    "tags": []
   },
   "outputs": [],
   "source": [
    "prices = [384.91367692954503, 389.8967479767937, 401.20788969026364, 465.1388607569204, 414.0688201351979, 325.18526099613297, 460.2622840847401, 425.28637650519823, 435.81289210983635, 466.1119350690599, 481.26084158347044, 553.44910806194, 524.9645554759068, 493.73550242106825, 441.31748783586255, 428.9736342758598, 524.2439536647842, 605.7756579042834, 523.9159804732369, 520.5573694360451, 572.2243354280608, 440.25182913939256, 527.1405877998808, 590.3253772815467, 624.1383069765612, 553.1559229141405, 603.3619901081537, 601.374941452989, 645.7628766092549, 520.074445002628, 644.777548130977, 505.9835725792402, 435.60382044468037, 583.5176490260349, 568.8932967557804, 701.3208570139484, 693.4986129729026, 568.6647681093013, 720.31529963436, 597.8458023030355, 668.9629307564601, 661.4270155430428, 697.0093900222645, 753.3045418080637, 747.688965355471, 734.4919571308446, 762.4963668464409, 757.4944426355083, 687.111017434628, 687.7840234328396, 712.102220810479, 786.9528480333747, 741.4919100301831, 929.5027955736383, 715.6495220469454, 703.0787780068489, 840.7931460828787, 893.5294986940426, 836.3984883587482, 866.5072142177371, 914.8441484209513, 815.4180766788587, 729.3928746802716, 798.7546416176901, 909.7027030121603, 748.9425115745198, 859.3471924551083, 881.7266151539443, 848.9085484630431, 928.6542390457668, 925.6545819068597, 1054.4985961830512, 942.3977437441195, 863.3417578949857, 873.6741685366178, 861.7893229130596, 993.6591491871075, 894.321701563041, 936.0817458409582, 1000.4511833502772, 904.3575906544015, 941.4439425467597, 840.1099614077259, 900.2264966672901, 943.2584511465706, 1019.103269196167, 1080.5445290710309, 1002.7073230785402, 1029.2954995439861, 1029.7578557983063]"
   ]
  },
  {
   "cell_type": "markdown",
   "id": "d2eebb08-e24b-4f99-a22b-2ae89d0ce43f",
   "metadata": {
    "tags": []
   },
   "source": [
    "# Deep Learning"
   ]
  },
  {
   "cell_type": "markdown",
   "id": "7336d81e-3fbe-405b-8924-5fb9d995dbc1",
   "metadata": {
    "tags": []
   },
   "source": [
    "### Preparation"
   ]
  },
  {
   "cell_type": "code",
   "execution_count": 8,
   "id": "276b49e5-4e09-47c1-bc79-5819674625ab",
   "metadata": {},
   "outputs": [],
   "source": [
    "#------------------------------------------\n",
    "\n",
    "def preparePlot(t):\n",
    "    \n",
    "    fig, ax = plt.subplots()\n",
    "    ax.set(xlim=[-10, 10], ylim=[-50, 400], xlabel='x', ylabel='y', title=t)\n",
    "\n",
    "#------------------------------------------\n",
    "\n",
    "def plotCurve(x, y, scatter):\n",
    "\n",
    "    if scatter:\n",
    "        \n",
    "        plt.scatter(x, y)\n",
    "        \n",
    "    else:\n",
    "        \n",
    "        plt.plot(x, y, 'red')\n",
    "\n",
    "#------------------------------------------\n",
    "\n",
    "def showPlot():\n",
    "    \n",
    "    plt.show()\n",
    "\n",
    "#------------------------------------------"
   ]
  },
  {
   "cell_type": "code",
   "execution_count": 9,
   "id": "5aa5ca0e-99ce-4a7a-a222-6e2277b280af",
   "metadata": {},
   "outputs": [
    {
     "name": "stdout",
     "output_type": "stream",
     "text": [
      "[-10, -9, -8, -7, -6, -5, -4, -3, -2, -1, 0, 1, 2, 3, 4, 5, 6, 7, 8, 9, 10]\n"
     ]
    }
   ],
   "source": [
    "x = [x for x in range(-10, 11, 1)]\n",
    "\n",
    "print(x)"
   ]
  },
  {
   "cell_type": "code",
   "execution_count": 10,
   "id": "2f91d22a-57cf-463f-b6e6-9a35e655f0d2",
   "metadata": {},
   "outputs": [
    {
     "name": "stdout",
     "output_type": "stream",
     "text": [
      "[160, 125, 94, 67, 44, 25, 10, -1, -8, -11, -10, -5, 4, 17, 34, 55, 80, 109, 142, 179, 220]\n"
     ]
    }
   ],
   "source": [
    "# The answer to everything\n",
    "rnd.seed(42)\n",
    "\n",
    "a = 2\n",
    "b = 3\n",
    "c = -10\n",
    "\n",
    "# Prepare random data\n",
    "y = [a * x**2 + b * x + c for x in x]\n",
    "\n",
    "# Mean\n",
    "mu = 5\n",
    "\n",
    "# Define standard deviation (spread)\n",
    "sigma = 20\n",
    "\n",
    "# Prepare random data\n",
    "yNoise = [a * x**2 + b * x + c + rnd.gauss(mu, sigma) for x in x]\n",
    "\n",
    "print(y)"
   ]
  },
  {
   "cell_type": "code",
   "execution_count": 11,
   "id": "4647d61c-33c8-4edc-b356-f57dc689aa76",
   "metadata": {},
   "outputs": [
    {
     "data": {
      "image/png": "[encoded data removed]",
      "text/plain": [
       "<Figure size 640x480 with 1 Axes>"
      ]
     },
     "metadata": {},
     "output_type": "display_data"
    }
   ],
   "source": [
    "preparePlot(\"Parabool\")\n",
    "plotCurve(x,y, False)\n",
    "plotCurve(x,yNoise, True)\n",
    "showPlot()"
   ]
  },
  {
   "cell_type": "markdown",
   "id": "1421b00c-3903-426c-803e-e8c4e34b48d3",
   "metadata": {
    "tags": []
   },
   "source": [
    "## Doel: best fit maken"
   ]
  },
  {
   "cell_type": "markdown",
   "id": "4100e5ee-acbe-4f07-9ba1-307a8d64f379",
   "metadata": {
    "tags": []
   },
   "source": [
    "### ReLU: Rectified Linear Unit"
   ]
  },
  {
   "cell_type": "code",
   "execution_count": 12,
   "id": "1dcf2502-27de-4664-866c-42ac0b2e4344",
   "metadata": {},
   "outputs": [],
   "source": [
    "#------------------------------------------\n",
    "\n",
    "def relu(w, b, x):\n",
    "    \n",
    "    y = w * x + b\n",
    "    \n",
    "    if y > 0:\n",
    "        \n",
    "        \n",
    "        return y\n",
    "    \n",
    "    else:\n",
    "        \n",
    "        return 0\n",
    "\n",
    "#------------------------------------------"
   ]
  },
  {
   "cell_type": "code",
   "execution_count": 13,
   "id": "93dbeb1e-71f8-405a-8d80-6c3b65abee19",
   "metadata": {},
   "outputs": [
    {
     "data": {
      "application/vnd.jupyter.widget-view+json": {
       "model_id": "e47619dbca6f49518d201d6f36110153",
       "version_major": 2,
       "version_minor": 0
      },
      "text/plain": [
       "interactive(children=(FloatSlider(value=0.0, description='w', max=30.0, min=-30.0), FloatSlider(value=0.0, des…"
      ]
     },
     "metadata": {},
     "output_type": "display_data"
    },
    {
     "data": {
      "text/plain": [
       "<function __main__.manualRelu(w, b)>"
      ]
     },
     "execution_count": 13,
     "metadata": {},
     "output_type": "execute_result"
    }
   ],
   "source": [
    "#------------------------------------------\n",
    "\n",
    "def manualRelu(w, b):\n",
    "    \n",
    "    rlu = [relu(w, b, x) for x in x]\n",
    "    \n",
    "    preparePlot(\"ReLU\")\n",
    "    \n",
    "    plotCurve(x, rlu, False)\n",
    "\n",
    "#------------------------------------------\n",
    "\n",
    "interact(manualRelu, w=(-30,30,0.1), b=(-100,100,0.1))\n",
    "\n",
    "#------------------------------------------"
   ]
  },
  {
   "cell_type": "markdown",
   "id": "e875413a-ee27-4ef3-b317-f3bf1df27441",
   "metadata": {
    "tags": []
   },
   "source": [
    "### Handmatige parabool fit met ReLU"
   ]
  },
  {
   "cell_type": "code",
   "execution_count": 15,
   "id": "e42ed231-5941-48ad-8e64-67a9a22ab1f7",
   "metadata": {},
   "outputs": [
    {
     "data": {
      "application/vnd.jupyter.widget-view+json": {
       "model_id": "3cfe3068f9bd4b99b6dc0dae740f2e12",
       "version_major": 2,
       "version_minor": 0
      },
      "text/plain": [
       "interactive(children=(FloatSlider(value=0.0, description='w1', max=50.0, min=-50.0, step=0.01), FloatSlider(va…"
      ]
     },
     "metadata": {},
     "output_type": "display_data"
    },
    {
     "data": {
      "text/plain": [
       "<function __main__.parabolaFit(w1, b1, w2, b2)>"
      ]
     },
     "execution_count": 15,
     "metadata": {},
     "output_type": "execute_result"
    }
   ],
   "source": [
    "#------------------------------------------\n",
    "\n",
    "def mse(fit):\n",
    "    \n",
    "    sse = 0\n",
    "    \n",
    "    # Sum of squared errors\n",
    "    for i in range(0, len(yNoise)):\n",
    "        \n",
    "        # Error = actual - predicted\n",
    "        err = yNoise[i] - fit[i]\n",
    "        sse += (err**2)\n",
    "    \n",
    "    # Mean squared error\n",
    "    return sse / len(yNoise)\n",
    "\n",
    "#------------------------------------------\n",
    "\n",
    "def parabolaFit(w1, b1, w2, b2):\n",
    "    \n",
    "    fit = [relu(w1, b1, x) + relu(w2, b2, x) for x in x]\n",
    "    \n",
    "    preparePlot(\"Som van 2 ReLUs\")\n",
    "    \n",
    "    plotCurve(x, fit, False)\n",
    "    plotCurve(x, yNoise, True)\n",
    "    \n",
    "    showPlot()\n",
    "    \n",
    "    # Our indicator\n",
    "    print(mse(fit))\n",
    "\n",
    "#------------------------------------------\n",
    "    \n",
    "interact(parabolaFit, w1=(-50,50,0.01), b1=(-100,100,0.01), w2=(-50,50,0.01), b2=(-100,100,0.01))\n",
    "\n",
    "#------------------------------------------"
   ]
  },
  {
   "cell_type": "markdown",
   "id": "1e292586-9762-4918-a02a-2c8bf1112451",
   "metadata": {
    "tags": []
   },
   "source": [
    "### Gradient descent"
   ]
  },
  {
   "cell_type": "code",
   "execution_count": 37,
   "id": "aaf91953-511e-43a6-b997-7a3a6464d4bc",
   "metadata": {},
   "outputs": [
    {
     "name": "stdout",
     "output_type": "stream",
     "text": [
      "initial cost:  9702.1711632593\n",
      "w1Fit:  24.819842203995606 b1Fit:  -57.5734756923642 w2Fit:  16.91626416625905 b2Fit:  -125.74286800634303 w3Fit: -21.607301892698867 b3Fit: -183.66236954237317 w4Fit: -19.77360576942839 b4Fit: -66.36999132178134\n",
      "final cost:  204.05341807110125\n"
     ]
    },
    {
     "data": {
      "image/png": "[encoded data removed]",
      "text/plain": [
       "<Figure size 640x480 with 1 Axes>"
      ]
     },
     "metadata": {},
     "output_type": "display_data"
    }
   ],
   "source": [
    "#------------------------------------------\n",
    "\n",
    "# Learning iterations\n",
    "epochs = 300000\n",
    "\n",
    "# Learning rate\n",
    "learningRate = 1e-4\n",
    "\n",
    "#------------------------------------------\n",
    "\n",
    "# Initial values (\"guess\")\n",
    "w1Fit = 0.0\n",
    "b1Fit = 0.0\n",
    "w2Fit = 0.0\n",
    "b2Fit = 0.0\n",
    "w3Fit = 0.0\n",
    "b3Fit = 0.0\n",
    "w4Fit = 0.0\n",
    "b4Fit = 0.0\n",
    "\n",
    "# Epochs counter\n",
    "epoch = 0\n",
    "\n",
    "#------------------------------------------\n",
    "\n",
    "def cost(w1, b1, w2, b2,w3,b3,w4,b4):\n",
    "    \n",
    "    sse = 0\n",
    "    \n",
    "    # Sum of squared errors\n",
    "    for i in range(0, len(yNoise)):\n",
    "        \n",
    "        # Use yhat = ReLU(w1 * x + b1) + ReLU(w2 * x + b2) + \n",
    "        yhat = relu(w1, b1, x[i]) + relu(w2, b2, x[i])+ relu(w3, b3, x[i])+ relu(w4, b4, x[i])\n",
    "        \n",
    "        # Use error = y - yhat\n",
    "        err = yNoise[i] - yhat\n",
    "        \n",
    "        sse += (err**2)\n",
    "    \n",
    "    # Mean squared error\n",
    "    return sse / len(yNoise)\n",
    "\n",
    "#------------------------------------------\n",
    "\n",
    "def gradientDescent(w1, b1, w2, b2, w3, b3,w4,b4):\n",
    "    \n",
    "    # The change of our weights and biases\n",
    "    dw1 = 0\n",
    "    db1 = 0\n",
    "    \n",
    "    dw2 = 0\n",
    "    db2 = 0\n",
    "\n",
    "    dw3 = 0\n",
    "    db3 = 0\n",
    "\n",
    "    dw4 = 0\n",
    "    db4 = 0\n",
    "    \n",
    "    # Stochastic gradient descent\n",
    "    for i in range(0, len(yNoise)):\n",
    "    \n",
    "        # Use yhat = ReLU(w1 * x + b1) + ReLU(w2 * x + b2)\n",
    "        yhat = relu(w1, b1, x[i]) + relu(w2, b2, x[i])+relu(w3, b3, x[i])+relu(w4, b4, x[i])\n",
    "        \n",
    "        # Use error = y - yhat\n",
    "        err = yNoise[i] - yhat\n",
    "\n",
    "        # Gradient descent steps\n",
    "        dw1 -= 2 * err * x[i]\n",
    "        db1 -= 2 * err\n",
    "        \n",
    "        # Adjust with learn rate\n",
    "        w1 -= learningRate * dw1\n",
    "        b1 -= learningRate * db1\n",
    "\n",
    "        yhat = relu(w1, b1, x[i]) + relu(w2, b2, x[i])+relu(w3, b3, x[i])+relu(w4, b4, x[i])\n",
    "        \n",
    "        # Use error = y - yhat\n",
    "        err = yNoise[i] - yhat\n",
    "        \n",
    "        dw2 -= 2 * err * x[i]\n",
    "        db2 -= 2 * err\n",
    "        \n",
    "        # Adjust with learn rate\n",
    "        w2 -= learningRate * dw2\n",
    "        b2 -= learningRate * db2\n",
    "\n",
    "\n",
    "        yhat = relu(w1, b1, x[i]) + relu(w2, b2, x[i])+relu(w3, b3, x[i])+relu(w4, b4, x[i])\n",
    "        \n",
    "        # Use error = y - yhat\n",
    "        err = yNoise[i] - yhat\n",
    "        \n",
    "        dw3 -= 2 * err * x[i]\n",
    "        db3 -= 2 * err\n",
    "        \n",
    "        # Adjust with learn rate\n",
    "        w3 -= learningRate * dw3\n",
    "        b3 -= learningRate * db3\n",
    "\n",
    "        yhat = relu(w1, b1, x[i]) + relu(w2, b2, x[i])+relu(w3, b3, x[i])+relu(w4, b4, x[i])\n",
    "        \n",
    "        # Use error = y - yhat\n",
    "        err = yNoise[i] - yhat\n",
    "        \n",
    "        dw4 -= 2 * err * x[i]\n",
    "        db4 -= 2 * err\n",
    "        \n",
    "        # Adjust with learn rate\n",
    "        w4 -= learningRate * dw4\n",
    "        b4 -= learningRate * db4\n",
    "    \n",
    "    return w1, b1, w2, b2,w3,b3,w4,b4\n",
    "\n",
    "#------------------------------------------\n",
    "\n",
    "def plotFit(w1, b1, w2, b2,w3,b3,w4,b4):\n",
    "    \n",
    "    fit = [ relu(w1, b1, x) + relu(w2, b2, x)+relu(w3, b3, x)+relu(w4, b4, x)  for x in x]\n",
    "    \n",
    "    preparePlot(\"Som van 4 ReLUs\")\n",
    "    \n",
    "    plotCurve(x, fit, False)\n",
    "    plotCurve(x, yNoise, True)\n",
    "    \n",
    "    showPlot()\n",
    "\n",
    "#------------------------------------------\n",
    "\n",
    "# Inital cost\n",
    "mse = cost(w1Fit, b1Fit, w2Fit, b2Fit,w3Fit,b3Fit,w4Fit,b4Fit)\n",
    "\n",
    "print(\"initial cost: \", cost(w1Fit, b1Fit, w2Fit, b2Fit,w3Fit,b3Fit,w4Fit,b4Fit))\n",
    "\n",
    "#------------------------------------------\n",
    "\n",
    "while epoch < epochs:\n",
    "    \n",
    "    # print(\"epoch: \", epoch)\n",
    "    \n",
    "    w1Fit, b1Fit, w2Fit, b2Fit, w3Fit, b3Fit,w4Fit,b4Fit  = gradientDescent(w1Fit, b1Fit, w2Fit, b2Fit,w3Fit,b3Fit,w4Fit,b4Fit)\n",
    "    \n",
    "    # print(\"cost: \", cost(w1Fit, b1Fit, w2Fit, b2Fit))\n",
    "    \n",
    "    epoch += 1\n",
    "    \n",
    "#------------------------------------------\n",
    "\n",
    "print(\"w1Fit: \", w1Fit, \"b1Fit: \", b1Fit, \"w2Fit: \", w2Fit, \"b2Fit: \", b2Fit,'w3Fit:',w3Fit,'b3Fit:',b3Fit,'w4Fit:',w4Fit,'b4Fit:',b4Fit)\n",
    "print(\"final cost: \", cost(w1Fit, b1Fit, w2Fit, b2Fit,w3Fit,b3Fit,w4Fit,b4Fit))\n",
    "\n",
    "plotFit(w1Fit, b1Fit, w2Fit, b2Fit,w3Fit,b3Fit,w4Fit,b4Fit)"
   ]
  }
 ],
 "metadata": {
  "kernelspec": {
   "display_name": "Python 3 (ipykernel)",
   "language": "python",
   "name": "python3"
  },
  "language_info": {
   "codemirror_mode": {
    "name": "ipython",
    "version": 3
   },
   "file_extension": ".py",
   "mimetype": "text/x-python",
   "name": "python",
   "nbconvert_exporter": "python",
   "pygments_lexer": "ipython3",
   "version": "3.11.2"
  }
 },
 "nbformat": 4,
 "nbformat_minor": 5
}
